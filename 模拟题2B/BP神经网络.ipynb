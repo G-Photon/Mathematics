{
 "cells": [
  {
   "cell_type": "code",
   "execution_count": 2,
   "metadata": {},
   "outputs": [],
   "source": [
    "import pandas as pd\n",
    "import numpy as np\n",
    "import matplotlib.pyplot as plt\n",
    "from sklearn.neural_network import MLPRegressor\n",
    "plt.rcParams['font.sans-serif'] = ['SimHei']\n",
    "plt.rcParams['axes.unicode_minus'] = False\n"
   ]
  },
  {
   "cell_type": "code",
   "execution_count": 48,
   "metadata": {},
   "outputs": [],
   "source": [
    "yuanyou = pd.read_excel(\"第四题/第四题数据.xlsx\")\n",
    "x_test=yuanyou.iloc[0:14,3:]\n",
    "y_test=yuanyou.iloc[0:14,1:3]\n",
    "y1=y_test.iloc[:,0]\n",
    "y2 = y_test.iloc[:, 1]\n",
    "x_need=yuanyou.iloc[15:,3:]"
   ]
  },
  {
   "cell_type": "code",
   "execution_count": 308,
   "metadata": {},
   "outputs": [
    {
     "data": {
      "text/plain": [
       "MLPRegressor(hidden_layer_sizes=10, max_iter=100000)"
      ]
     },
     "execution_count": 308,
     "metadata": {},
     "output_type": "execute_result"
    }
   ],
   "source": [
    "mlp=MLPRegressor(hidden_layer_sizes=(10),\n",
    "                               activation='relu',\n",
    "                               solver='adam',\n",
    "                               alpha=0.0001,\n",
    "                               batch_size='auto',\n",
    "                               learning_rate='constant',\n",
    "                               learning_rate_init=0.001,\n",
    "                               power_t=0.5,max_iter=100000,tol=1e-4)\n",
    "mlp.fit(x_test,y1)"
   ]
  },
  {
   "cell_type": "code",
   "execution_count": 313,
   "metadata": {},
   "outputs": [
    {
     "name": "stdout",
     "output_type": "stream",
     "text": [
      "0.8556955583259841\n"
     ]
    },
    {
     "data": {
      "text/plain": [
       "array([[8968.07931016],\n",
       "       [8538.36352092],\n",
       "       [8504.85386473],\n",
       "       [8834.2611165 ],\n",
       "       [9329.00189996],\n",
       "       [9747.7954941 ],\n",
       "       [9943.63632402],\n",
       "       [9931.01859063],\n",
       "       [9849.46781913],\n",
       "       [9854.40089547]])"
      ]
     },
     "execution_count": 313,
     "metadata": {},
     "output_type": "execute_result"
    }
   ],
   "source": [
    "print(mlp.score(x_test,y1))\n",
    "mlp.predict(x_need).reshape(-1,1)"
   ]
  },
  {
   "cell_type": "code",
   "execution_count": 316,
   "metadata": {},
   "outputs": [
    {
     "name": "stdout",
     "output_type": "stream",
     "text": [
      "0.856544475819368\n"
     ]
    }
   ],
   "source": [
    "mlp2=MLPRegressor(hidden_layer_sizes=(10),\n",
    "                               activation='relu',\n",
    "                               solver='adam',\n",
    "                               alpha=0.0001,\n",
    "                               batch_size='auto',\n",
    "                               learning_rate='constant',\n",
    "                               learning_rate_init=0.001,\n",
    "                               power_t=0.5,max_iter=100000,tol=1e-4)\n",
    "mlp2.fit(x_test,y2)\n",
    "print(mlp2.score(x_test,y2))"
   ]
  },
  {
   "cell_type": "code",
   "execution_count": 317,
   "metadata": {},
   "outputs": [
    {
     "data": {
      "text/plain": [
       "array([[7945.2193881 ],\n",
       "       [7533.8272558 ],\n",
       "       [7502.50792605],\n",
       "       [7818.47513262],\n",
       "       [8292.16052216],\n",
       "       [8693.64210712],\n",
       "       [8880.85453519],\n",
       "       [8867.79483257],\n",
       "       [8788.51116781],\n",
       "       [8793.27176906]])"
      ]
     },
     "execution_count": 317,
     "metadata": {},
     "output_type": "execute_result"
    }
   ],
   "source": [
    "mlp2.predict(x_need).reshape(-1,1)"
   ]
  }
 ],
 "metadata": {
  "kernelspec": {
   "display_name": "Python 3.10.1 64-bit",
   "language": "python",
   "name": "python3"
  },
  "language_info": {
   "codemirror_mode": {
    "name": "ipython",
    "version": 3
   },
   "file_extension": ".py",
   "mimetype": "text/x-python",
   "name": "python",
   "nbconvert_exporter": "python",
   "pygments_lexer": "ipython3",
   "version": "3.10.1"
  },
  "orig_nbformat": 4,
  "vscode": {
   "interpreter": {
    "hash": "369f2c481f4da34e4445cda3fffd2e751bd1c4d706f27375911949ba6bb62e1c"
   }
  }
 },
 "nbformat": 4,
 "nbformat_minor": 2
}
