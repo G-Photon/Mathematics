{
 "cells": [
  {
   "cell_type": "code",
   "execution_count": 40,
   "id": "cc57548a",
   "metadata": {},
   "outputs": [],
   "source": [
    "import pandas as pd\n",
    "import numpy as np\n",
    "import matplotlib.pyplot as plt\n",
    "from sklearn.neural_network import MLPRegressor\n",
    "from sko.GA import GA\n",
    "plt.rcParams['font.sans-serif'] = ['SimHei']\n",
    "plt.rcParams['axes.unicode_minus'] = False"
   ]
  },
  {
   "cell_type": "code",
   "execution_count": 47,
   "id": "addfa6e4",
   "metadata": {},
   "outputs": [],
   "source": [
    "x=pd.read_excel(\"A组/A组.xlsx\",skiprows=[55,56,57,58,59])\n",
    "y=pd.read_excel(\"A组/A组.xlsx\",skiprows=[55, 56, 57, 58, 59])\n",
    "x = x.iloc[:, 0:5]\n",
    "y = y.iloc[:, 7]\n"
   ]
  },
  {
   "cell_type": "code",
   "execution_count": 50,
   "id": "3ee3eaf0",
   "metadata": {},
   "outputs": [],
   "source": [
    "x = pd.read_excel(\"B组/B组.xlsx\")\n",
    "y = pd.read_excel(\"B组/B组.xlsx\")\n",
    "x = x.iloc[:, 0:5]\n",
    "y = y.iloc[:, 7]\n"
   ]
  },
  {
   "cell_type": "code",
   "execution_count": 51,
   "id": "0a7a1a4c",
   "metadata": {},
   "outputs": [
    {
     "data": {
      "text/plain": [
       "MLPRegressor(hidden_layer_sizes=(50,), learning_rate_init=0.1, max_iter=500,\n",
       "             random_state=5)"
      ]
     },
     "execution_count": 51,
     "metadata": {},
     "output_type": "execute_result"
    }
   ],
   "source": [
    "model = MLPRegressor(hidden_layer_sizes=(\n",
    "    50,), learning_rate_init=0.1,random_state=5,max_iter=500)  # BP神经网络回归模型\n",
    "model.fit(x,y)  # 训练模型"
   ]
  },
  {
   "cell_type": "code",
   "execution_count": 52,
   "id": "522b6c9c",
   "metadata": {},
   "outputs": [
    {
     "name": "stdout",
     "output_type": "stream",
     "text": [
      "best_x: [5.00000000e-03 5.00000000e-01 1.07993454e+02 3.00000000e-01\n",
      " 4.50000000e+02] \n",
      " best_y: [-3311.30641557]\n"
     ]
    }
   ],
   "source": [
    "def fitness1(p):\n",
    "    x1, x2, x3, x4, x5 = p\n",
    "    x = pd.DataFrame({\"co/sio2的质量百分比\": [x1],\n",
    "                       \"co/sio2和HAP装料比\": [x2],\n",
    "                       \"co/sio2质量\": [x3],\n",
    "                       \"乙醇进气速率\": [x4],\n",
    "                       \"温度\": [x5]})\n",
    "    y=model.predict(x)\n",
    "    y=float(y)\n",
    "    return -1 * y  # 转化为求最小值\n",
    "\n",
    "\n",
    "ga = GA(func=fitness1, n_dim=5, size_pop=50, max_iter=800, lb=[0.005, 0.5, 33, 0.3, 250],\n",
    "        ub=[0.0500, 2.0000, 200.0000, 2.1000, 450.0000], precision=1e-7)\n",
    "best_x, best_y = ga.run()\n",
    "print('best_x:', best_x, '\\n', 'best_y:', best_y)\n"
   ]
  },
  {
   "cell_type": "code",
   "execution_count": 53,
   "id": "93e3a573",
   "metadata": {},
   "outputs": [
    {
     "name": "stdout",
     "output_type": "stream",
     "text": [
      "best_x: [5.00000000e-03 5.00000000e-01 8.47426163e+01 3.00000000e-01\n",
      " 3.50000000e+02] \n",
      " best_y: [-2327.29694812]\n"
     ]
    }
   ],
   "source": [
    "ga = GA(func=fitness1, n_dim=5, size_pop=50, max_iter=800, lb=[0.005, 0.5, 33, 0.3, 250],\n",
    "        ub=[0.0500, 2.0000, 200.0000, 2.1000, 350.0000], precision=1e-7)\n",
    "best_x, best_y = ga.run()\n",
    "print('best_x:', best_x, '\\n', 'best_y:', best_y)"
   ]
  },
  {
   "cell_type": "code",
   "execution_count": null,
   "id": "51aefbe4",
   "metadata": {},
   "outputs": [],
   "source": []
  },
  {
   "cell_type": "code",
   "execution_count": null,
   "id": "2850cbc7",
   "metadata": {},
   "outputs": [],
   "source": []
  }
 ],
 "metadata": {
  "kernelspec": {
   "display_name": "Python 3.10.1 64-bit",
   "language": "python",
   "name": "python3"
  },
  "language_info": {
   "codemirror_mode": {
    "name": "ipython",
    "version": 3
   },
   "file_extension": ".py",
   "mimetype": "text/x-python",
   "name": "python",
   "nbconvert_exporter": "python",
   "pygments_lexer": "ipython3",
   "version": "3.10.1"
  },
  "vscode": {
   "interpreter": {
    "hash": "369f2c481f4da34e4445cda3fffd2e751bd1c4d706f27375911949ba6bb62e1c"
   }
  }
 },
 "nbformat": 4,
 "nbformat_minor": 5
}
